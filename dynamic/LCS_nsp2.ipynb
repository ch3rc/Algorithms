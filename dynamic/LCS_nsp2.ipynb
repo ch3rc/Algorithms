{
  "nbformat": 4,
  "nbformat_minor": 0,
  "metadata": {
    "colab": {
      "name": "LCS_nsp2.ipynb",
      "provenance": []
    },
    "kernelspec": {
      "name": "python3",
      "display_name": "Python 3"
    }
  },
  "cells": [
    {
      "cell_type": "code",
      "metadata": {
        "id": "EQoxN8Q4uwEn",
        "colab_type": "code",
        "colab": {
          "base_uri": "https://localhost:8080/",
          "height": 86
        },
        "outputId": "314037b6-bde6-4814-9d91-274eaa11e161"
      },
      "source": [
        "\"\"\"\n",
        "Author:   Cody Hawkins\n",
        "Date:     Sep 15,2020\n",
        "Desc:     Find the longest common protein sequence\n",
        "          between nsp2, A0A1B3Q5V8 and Q9YMB7\n",
        "\"\"\"\n",
        "def LCS(X, Y):\n",
        "\n",
        "  m = len(X)\n",
        "  n = len(Y)\n",
        "\n",
        "  c = [[0 for x in range(n+1)] for x in range(m+1)]\n",
        "  b = [[\"\" for x in range(n+1)] for x in range(m+1)]\n",
        "\n",
        "  for i in range(1,m+1):\n",
        "    for j in range(1,n+1):\n",
        "      if X[i-1] == Y[j-1]:\n",
        "        c[i][j] = c[i-1][j-1] + 1\n",
        "        b[i][j] = \"UL\"\n",
        "      elif c[i-1][j] >= c[i][j-1]:\n",
        "        c[i][j] = c[i-1][j]\n",
        "        b[i][j] = \"up\"\n",
        "      else:\n",
        "        c[i][j] = c[i][j-1]\n",
        "        b[i][j] = \" \"\n",
        "  return c, b\n",
        "\n",
        "# printout must be i - 1 and not i for correct output\n",
        "def print_lcs(b, X, i, j, h):\n",
        "  if i == 0 or j == 0:\n",
        "    return\n",
        "  if b[i][j] == \"UL\":\n",
        "    print_lcs(b, X, i-1, j-1, h)\n",
        "    h.append(X[i-1])\n",
        "  elif b[i][j] == \"up\":\n",
        "    print_lcs(b, X, i-1, j, h)\n",
        "  else:\n",
        "    print_lcs(b, X, i, j-1, h)\n",
        "  return h\n",
        "\n",
        "\n",
        "# sanity check to make sure output is correct\n",
        "X = \"ABCBDAB\"\n",
        "Y = \"BDCABA\"\n",
        "c, b = LCS(X, Y)\n",
        "\n",
        "holder = []\n",
        "common = print_lcs(b, X, len(X), len(Y), holder)\n",
        "print(\"X: \" + X +\"\\nY: \" +  Y)\n",
        "print(\"LCS: \" + \"\".join(common))\n",
        "print(\"LCS length: \" + str(len(common)))"
      ],
      "execution_count": 1,
      "outputs": [
        {
          "output_type": "stream",
          "text": [
            "X: ABCBDAB\n",
            "Y: BDCABA\n",
            "LCS: BCBA\n",
            "LCS length: 4\n"
          ],
          "name": "stdout"
        }
      ]
    },
    {
      "cell_type": "code",
      "metadata": {
        "id": "UkWBeIwW8A0p",
        "colab_type": "code",
        "colab": {
          "resources": {
            "http://localhost:8080/nbextensions/google.colab/files.js": {
              "data": "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",
              "ok": true,
              "headers": [
                [
                  "content-type",
                  "application/javascript"
                ]
              ],
              "status": 200,
              "status_text": ""
            }
          },
          "base_uri": "https://localhost:8080/",
          "height": 72
        },
        "outputId": "aa9cc547-ebce-4a44-d676-d5638e5b3cc4"
      },
      "source": [
        "# import protein sequence text file\n",
        "from google.colab import files\n",
        "data = files.upload()"
      ],
      "execution_count": 2,
      "outputs": [
        {
          "output_type": "display_data",
          "data": {
            "text/html": [
              "\n",
              "     <input type=\"file\" id=\"files-0e150a7a-a7ed-4d29-bcb3-ab51309eea99\" name=\"files[]\" multiple disabled\n",
              "        style=\"border:none\" />\n",
              "     <output id=\"result-0e150a7a-a7ed-4d29-bcb3-ab51309eea99\">\n",
              "      Upload widget is only available when the cell has been executed in the\n",
              "      current browser session. Please rerun this cell to enable.\n",
              "      </output>\n",
              "      <script src=\"/nbextensions/google.colab/files.js\"></script> "
            ],
            "text/plain": [
              "<IPython.core.display.HTML object>"
            ]
          },
          "metadata": {
            "tags": []
          }
        },
        {
          "output_type": "stream",
          "text": [
            "Saving LCS_sequences.txt to LCS_sequences (1).txt\n"
          ],
          "name": "stdout"
        }
      ]
    },
    {
      "cell_type": "code",
      "metadata": {
        "id": "0l14pBuh8cN9",
        "colab_type": "code",
        "colab": {}
      },
      "source": [
        "# parse text file\n",
        "filename = \"LCS_sequences.txt\"\n",
        "temp = data[filename].decode(\"utf-8\").split(\"\\r\\n\")"
      ],
      "execution_count": 3,
      "outputs": []
    },
    {
      "cell_type": "code",
      "metadata": {
        "id": "6ygL1thj9v3O",
        "colab_type": "code",
        "colab": {
          "base_uri": "https://localhost:8080/",
          "height": 124
        },
        "outputId": "5577d765-db92-4f1b-ac59-da5eeaf11c91"
      },
      "source": [
        "# remove the lower case letters from the protein sequences\n",
        "nsp2 = []\n",
        "A0A1B3Q5V8 = []\n",
        "Q9YMB7 = []\n",
        "for i in range(len(temp) - 1):\n",
        "  for j in range(len(temp[i])):\n",
        "    if i == 0:\n",
        "      if temp[i][j].isupper():\n",
        "        nsp2.append(temp[i][j])\n",
        "    elif i == 1:\n",
        "      if temp[i][j].isupper():\n",
        "        A0A1B3Q5V8.append(temp[i][j])\n",
        "    elif i == 2:\n",
        "      if temp[i][j].isupper():\n",
        "        Q9YMB7.append(temp[i][j])\n",
        "\n",
        "# check to ensure lowercase letters removed\n",
        "print(nsp2)\n",
        "print(\"\")\n",
        "print(A0A1B3Q5V8)\n",
        "print(\"\")\n",
        "print(Q9YMB7)\n"
      ],
      "execution_count": 4,
      "outputs": [
        {
          "output_type": "stream",
          "text": [
            "['A', 'Y', 'T', 'R', 'Y', 'V', 'D', 'N', 'N', 'F', 'C', 'G', 'P', 'D', 'G', 'Y', 'P', 'L', 'E', 'C', 'I', 'K', 'D', 'L', 'L', 'A', 'R', 'A', 'G', 'K', 'A', 'S', 'C', 'T', 'L', 'S', 'E', 'Q', 'L', 'D', 'F', 'I', 'D', 'T', 'K', 'R', 'G', 'V', 'Y', 'C', 'C', 'R', 'E', 'H', 'E', 'H', 'E', 'I', 'A', 'W', 'Y', 'T', 'E', 'R', 'S', 'E', 'K', 'S', 'Y', 'E', 'L', 'Q', 'T', 'P', 'F', 'E', 'I', 'K', 'L', 'A', 'K', 'K', 'F', 'D', 'T', 'F', 'N', 'G', 'E', 'C', 'P', 'N', 'F', 'V', 'F', 'P', 'L', 'N', 'S', 'I', 'I', 'K', 'T', 'I', 'Q', 'P', 'R', 'V', 'E', 'K', 'K', 'K', 'L', 'D', 'G', 'F', 'M', 'G', 'R', 'I', 'R', 'S', 'V', 'Y', 'P', 'V', 'A', 'S', 'P', 'N', 'E', 'C', 'N', 'Q', 'M', 'C', 'L', 'S', 'T', 'L', 'M', 'K', 'C', 'D', 'H', 'C', 'G', 'E', 'T', 'S', 'W', 'Q', 'T', 'G', 'D', 'F', 'V', 'K', 'A', 'T', 'C', 'E', 'F', 'C', 'G', 'T', 'E', 'N', 'L', 'T', 'K', 'E', 'G', 'A', 'T', 'T', 'C', 'G', 'Y', 'L', 'P', 'Q', 'N', 'A', 'V', 'V', 'K', 'I', 'Y', 'C', 'P', 'A', 'C', 'H', 'N', 'S', 'E', 'V', 'G', 'P', 'E', 'H', 'S', 'L', 'A', 'E', 'Y', 'H', 'N', 'E', 'S', 'G', 'L', 'K', 'T', 'I', 'L', 'R', 'K', 'G', 'G', 'R', 'T', 'I', 'A', 'F', 'G', 'G', 'C', 'V', 'F', 'S', 'Y', 'V', 'G', 'C', 'H', 'N', 'K', 'C', 'A', 'Y', 'W', 'V', 'P', 'R', 'A', 'S', 'A', 'N', 'I', 'G', 'C', 'N', 'H', 'T', 'G', 'V', 'V', 'G', 'E', 'G', 'S', 'E', 'G', 'L', 'N', 'D', 'N', 'L', 'L', 'E', 'I', 'L', 'Q', 'K', 'E', 'K', 'V', 'N', 'I', 'N', 'I', 'V', 'G', 'D', 'F', 'K', 'L', 'N', 'E', 'E', 'I', 'A', 'I', 'I', 'L', 'A', 'S', 'F', 'S', 'A', 'S', 'T', 'S', 'A', 'F', 'V', 'E', 'T', 'V', 'K', 'G', 'L', 'D', 'Y', 'K', 'A', 'F', 'K', 'Q', 'I', 'V', 'E', 'S', 'C', 'G', 'N', 'F', 'K', 'V', 'T', 'K', 'G', 'K', 'A', 'K', 'K', 'G', 'A', 'W', 'N', 'I', 'G', 'E', 'Q', 'K', 'S', 'I', 'L', 'S', 'P', 'L', 'Y', 'A', 'F', 'A', 'S', 'E', 'A', 'A', 'R', 'V', 'V', 'R', 'S', 'I', 'F', 'S', 'R', 'T', 'L', 'E', 'T', 'A', 'Q', 'N', 'S', 'V', 'R', 'V', 'L', 'Q', 'K', 'A', 'A', 'I', 'T', 'I', 'L', 'D', 'G', 'I', 'S', 'Q', 'Y', 'S', 'L', 'R', 'L', 'I', 'D', 'A', 'M', 'M', 'F', 'T', 'S', 'D', 'L', 'A', 'T', 'N', 'N', 'L', 'V', 'V', 'M', 'A', 'Y', 'I', 'T', 'G', 'G', 'V', 'V', 'Q', 'L', 'T', 'S', 'Q', 'W', 'L', 'T', 'N', 'I', 'F', 'G', 'T', 'V', 'Y', 'E', 'K', 'L', 'K', 'P', 'V', 'L', 'D', 'W', 'L', 'E', 'E', 'K', 'F', 'K', 'E', 'G', 'V', 'E', 'F', 'L', 'R', 'D', 'G', 'W', 'E', 'I', 'V', 'K', 'F', 'I', 'S', 'T', 'C', 'A', 'C', 'E', 'I', 'V', 'G', 'G', 'Q', 'I', 'V', 'T', 'C', 'A', 'K', 'E', 'I', 'K', 'E', 'S', 'V', 'Q', 'T', 'F', 'F', 'K', 'L', 'V', 'N', 'K', 'F', 'L', 'A', 'L', 'C', 'A', 'D', 'S', 'I', 'I', 'I', 'G', 'G', 'A', 'K', 'L', 'K', 'A', 'L', 'N', 'L', 'G', 'E', 'T', 'F', 'V', 'T', 'H', 'S', 'K', 'G', 'L', 'Y', 'R', 'K', 'C', 'V', 'K', 'S', 'R', 'E', 'E', 'T', 'G', 'L', 'L', 'M', 'P', 'L', 'K', 'A', 'P', 'K', 'E', 'I', 'I', 'F', 'L', 'E', 'G', 'E', 'T', 'L', 'P', 'T', 'E', 'V', 'L', 'T', 'E', 'E', 'V', 'V', 'L', 'K', 'T', 'G', 'D', 'L', 'Q', 'P', 'L', 'E', 'Q', 'P', 'T', 'S', 'E', 'A', 'V', 'E', 'A', 'P', 'L', 'V', 'G', 'T', 'P', 'V', 'C', 'I', 'N', 'G', 'L', 'M', 'L', 'L', 'E', 'I', 'K', 'D', 'T', 'E', 'K', 'Y', 'C', 'A', 'L', 'A', 'P', 'N', 'M', 'M', 'V', 'T', 'N', 'N', 'T', 'F', 'T', 'L', 'K', 'G', 'G']\n",
            "\n",
            "['F', 'L', 'T', 'D', 'Q', 'Y', 'G', 'F', 'D', 'A', 'D', 'G', 'V', 'L', 'A', 'A', 'P', 'I', 'K', 'E', 'V', 'L', 'G', 'D', 'K', 'G', 'A', 'G', 'M', 'S', 'R', 'T', 'A', 'D', 'G', 'Y', 'E', 'L', 'P', 'S', 'G', 'I', 'V', 'K', 'V', 'A', 'V', 'K', 'V', 'V', 'R', 'K', 'N', 'L', 'P', 'V', 'S', 'K', 'Q', 'S', 'I', 'F', 'T', 'V', 'L', 'G', 'V', 'T', 'E', 'R', 'V', 'V', 'D', 'G', 'F', 'Y', 'Y', 'P', 'Y', 'S', 'T', 'N', 'S', 'V', 'V', 'S', 'Y', 'T', 'K', 'P', 'R', 'A', 'G', 'A', 'T', 'V', 'G', 'N', 'T', 'V', 'Q', 'S', 'V', 'M', 'L', 'S', 'V', 'Y', 'G', 'T', 'E', 'A', 'Y', 'N', 'P', 'V', 'T', 'P', 'V', 'V', 'R', 'L', 'R', 'C', 'S', 'S', 'C', 'D', 'F', 'Y', 'G', 'W', 'V', 'P', 'V', 'K', 'D', 'L', 'G', 'C', 'V', 'T', 'C', 'S', 'C', 'A', 'A', 'V', 'H', 'Q', 'S', 'C', 'I', 'D', 'A', 'E', 'S', 'A', 'G', 'L', 'I', 'K', 'Q', 'G', 'A', 'V', 'M', 'L', 'V', 'D', 'R', 'S', 'P', 'S', 'M', 'R', 'V', 'V', 'P', 'G', 'N', 'R', 'Y', 'V', 'A', 'F', 'G', 'G', 'A', 'I', 'W', 'S', 'P', 'I', 'G', 'K', 'V', 'N', 'G', 'V', 'Q', 'V', 'W', 'V', 'P', 'R', 'A', 'Y', 'S', 'C', 'V', 'A', 'G', 'D', 'H', 'S', 'G', 'A', 'V', 'G', 'S', 'G', 'D', 'V', 'T', 'I', 'N', 'K', 'E', 'I', 'M', 'S', 'L', 'I', 'I', 'D', 'G', 'V', 'R', 'I', 'D', 'D', 'E', 'V', 'L', 'E', 'Q', 'P', 'S', 'C', 'G', 'V', 'L', 'I', 'A', 'N', 'L', 'E', 'D', 'P', 'S', 'A', 'A', 'P', 'R', 'V', 'H', 'T', 'V', 'D', 'S', 'L', 'R', 'Q', 'L', 'C', 'V', 'D', 'N', 'N', 'D', 'T', 'K', 'D', 'E', 'F', 'H', 'P', 'G', 'L', 'S', 'Y', 'H', 'F', 'Y', 'R', 'A', 'C', 'W', 'Y', 'G', 'V', 'L', 'T', 'A', 'K', 'S', 'F', 'G', 'A', 'F', 'K', 'E', 'L', 'L', 'Q', 'S', 'E', 'E', 'V', 'R', 'L', 'S', 'H', 'F', 'C', 'A', 'N', 'I', 'R', 'R', 'C', 'L', 'D', 'R', 'A', 'L', 'N', 'W', 'A', 'R', 'T', 'T', 'G', 'S', 'L', 'V', 'L', 'K', 'A', 'L', 'A', 'E', 'N', 'L', 'L', 'D', 'S', 'V', 'K', 'N', 'T', 'P', 'F', 'L', 'V', 'G', 'D', 'L', 'V', 'K', 'P', 'V', 'L', 'D', 'W', 'I', 'V', 'E', 'K', 'M', 'V', 'L', 'A', 'R', 'D', 'S', 'V', 'V', 'S', 'C', 'A', 'E', 'A', 'V', 'L', 'S', 'L', 'F', 'N', 'M', 'Q', 'F', 'T', 'F', 'A', 'K', 'G', 'K', 'F', 'T', 'F', 'L', 'K', 'E', 'K', 'L', 'N', 'K', 'S', 'C', 'V', 'A', 'L', 'R', 'E', 'L', 'L', 'T', 'V', 'I', 'V', 'N', 'K', 'F', 'A', 'T', 'T', 'V', 'K', 'W', 'A', 'G', 'C', 'K', 'I', 'D', 'G', 'F', 'Y', 'N', 'G', 'D', 'Y', 'H', 'F', 'F', 'S', 'A', 'K', 'G', 'V', 'L', 'T', 'E', 'V', 'Q', 'V', 'C', 'A', 'K', 'T', 'L', 'G', 'A', 'M', 'L', 'P', 'R', 'Q', 'Q', 'R', 'M', 'E', 'V', 'E', 'V', 'L', 'D', 'G', 'K', 'Y', 'A', 'P', 'V', 'A', 'I', 'T', 'V', 'P', 'E', 'L', 'E', 'E', 'L', 'N', 'G', 'T', 'L', 'E', 'E', 'V', 'F', 'G', 'F', 'D', 'D', 'L', 'T', 'L', 'V', 'R', 'G', 'S', 'L', 'V', 'A', 'L', 'A', 'S', 'K', 'V', 'F', 'V', 'R', 'T', 'D', 'D', 'G', 'L', 'L', 'F', 'R', 'Y', 'V', 'K', 'S', 'G', 'G', 'V', 'F', 'L', 'K', 'A', 'F', 'R', 'L', 'R', 'G', 'G']\n",
            "\n",
            "['Y', 'V', 'D', 'Q', 'Y', 'M', 'C', 'G', 'A', 'D', 'G', 'K', 'P', 'V', 'G', 'D', 'F', 'K', 'D', 'Y', 'F', 'G', 'D', 'E', 'D', 'I', 'I', 'E', 'F', 'E', 'G', 'E', 'E', 'Y', 'H', 'C', 'A', 'W', 'T', 'T', 'V', 'R', 'D', 'E', 'K', 'P', 'L', 'N', 'Q', 'Q', 'T', 'L', 'F', 'T', 'I', 'Q', 'E', 'I', 'Q', 'Y', 'N', 'L', 'D', 'I', 'P', 'H', 'K', 'L', 'P', 'N', 'C', 'A', 'T', 'R', 'H', 'V', 'A', 'P', 'P', 'V', 'K', 'K', 'N', 'S', 'K', 'I', 'V', 'L', 'Y', 'K', 'K', 'L', 'Y', 'D', 'I', 'F', 'G', 'S', 'P', 'F', 'M', 'G', 'N', 'G', 'D', 'C', 'L', 'S', 'K', 'C', 'F', 'D', 'T', 'L', 'H', 'F', 'I', 'A', 'A', 'T', 'R', 'C', 'P', 'C', 'G', 'S', 'E', 'S', 'S', 'G', 'V', 'G', 'D', 'W', 'T', 'G', 'F', 'K', 'T', 'A', 'C', 'C', 'S', 'G', 'K', 'V', 'K', 'G', 'V', 'T', 'L', 'G', 'D', 'I', 'K', 'P', 'G', 'D', 'A', 'V', 'M', 'S', 'A', 'G', 'K', 'V', 'K', 'F', 'F', 'A', 'N', 'C', 'V', 'L', 'Q', 'Y', 'A', 'G', 'D', 'V', 'E', 'G', 'V', 'S', 'I', 'W', 'K', 'V', 'I', 'K', 'T', 'F', 'T', 'V', 'D', 'E', 'T', 'V', 'C', 'T', 'P', 'G', 'F', 'E', 'G', 'E', 'L', 'N', 'D', 'F', 'I', 'K', 'P', 'E', 'S', 'K', 'S', 'L', 'V', 'A', 'C', 'S', 'V', 'K', 'R', 'A', 'F', 'I', 'T', 'G', 'D', 'I', 'D', 'D', 'A', 'V', 'H', 'D', 'C', 'I', 'I', 'T', 'G', 'K', 'L', 'D', 'L', 'S', 'T', 'N', 'L', 'F', 'G', 'N', 'V', 'G', 'L', 'F', 'K', 'K', 'T', 'P', 'W', 'F', 'Q', 'K', 'C', 'G', 'A', 'L', 'F', 'V', 'D', 'A', 'W', 'K', 'V', 'V', 'E', 'E', 'L', 'C', 'G', 'S', 'L', 'T', 'L', 'T', 'Y', 'K', 'Q', 'I', 'Y', 'E', 'V', 'V', 'A', 'S', 'L', 'C', 'T', 'S', 'A', 'F', 'T', 'I', 'V', 'N', 'Y', 'T', 'F', 'V', 'V', 'P', 'D', 'N', 'R', 'V', 'K', 'D', 'L', 'V', 'D', 'K', 'C', 'V', 'K', 'V', 'L', 'V', 'K', 'A', 'F', 'D', 'V', 'F', 'T', 'Q', 'I', 'I', 'T', 'I', 'A', 'G', 'I', 'E', 'A', 'K', 'C', 'F', 'V', 'L', 'G', 'A', 'K', 'Y', 'L', 'L', 'F', 'N', 'N', 'A', 'L', 'V', 'K', 'L', 'V', 'S', 'V', 'K', 'I', 'L', 'G', 'K', 'Q', 'K', 'L', 'E', 'C', 'A', 'F', 'L', 'V', 'G', 'A', 'T', 'V', 'N', 'V', 'T', 'P', 'K', 'R', 'T', 'E', 'T', 'A', 'T', 'I', 'S', 'L', 'N', 'K', 'V', 'D', 'D', 'V', 'V', 'A', 'P', 'G', 'E', 'G', 'Y', 'I', 'V', 'I', 'V', 'G', 'D', 'M', 'A', 'F', 'Y', 'K', 'S', 'G', 'E', 'Y', 'Y', 'F', 'M', 'M', 'S', 'S', 'P', 'N', 'F', 'V', 'L', 'T', 'N', 'N', 'V', 'F', 'K']\n"
          ],
          "name": "stdout"
        }
      ]
    },
    {
      "cell_type": "code",
      "metadata": {
        "id": "V_Rs5oeI_RQ4",
        "colab_type": "code",
        "colab": {
          "base_uri": "https://localhost:8080/",
          "height": 106
        },
        "outputId": "e68fa23a-e513-4c7d-b1ae-cd0ce7676f81"
      },
      "source": [
        "# LCS of nsp2 and A0A1B3QV8\n",
        "c, b = LCS(nsp2, A0A1B3Q5V8)\n",
        "hold = []\n",
        "m1 = len(nsp2)\n",
        "n1 = len(A0A1B3Q5V8)\n",
        "\n",
        "lcs1 = print_lcs(b, nsp2, m1, n1, hold)\n",
        "print(\"nsp2: \" + \"\".join(nsp2) +\"\\nA0A1B3Q5V8: \" +  \"\".join(A0A1B3Q5V8))\n",
        "print(\"LCS: \" + \"\".join(lcs1))\n",
        "print(\"LCS length: \" + str(len(lcs1)))"
      ],
      "execution_count": 8,
      "outputs": [
        {
          "output_type": "stream",
          "text": [
            "nsp2: AYTRYVDNNFCGPDGYPLECIKDLLARAGKASCTLSEQLDFIDTKRGVYCCREHEHEIAWYTERSEKSYELQTPFEIKLAKKFDTFNGECPNFVFPLNSIIKTIQPRVEKKKLDGFMGRIRSVYPVASPNECNQMCLSTLMKCDHCGETSWQTGDFVKATCEFCGTENLTKEGATTCGYLPQNAVVKIYCPACHNSEVGPEHSLAEYHNESGLKTILRKGGRTIAFGGCVFSYVGCHNKCAYWVPRASANIGCNHTGVVGEGSEGLNDNLLEILQKEKVNINIVGDFKLNEEIAIILASFSASTSAFVETVKGLDYKAFKQIVESCGNFKVTKGKAKKGAWNIGEQKSILSPLYAFASEAARVVRSIFSRTLETAQNSVRVLQKAAITILDGISQYSLRLIDAMMFTSDLATNNLVVMAYITGGVVQLTSQWLTNIFGTVYEKLKPVLDWLEEKFKEGVEFLRDGWEIVKFISTCACEIVGGQIVTCAKEIKESVQTFFKLVNKFLALCADSIIIGGAKLKALNLGETFVTHSKGLYRKCVKSREETGLLMPLKAPKEIIFLEGETLPTEVLTEEVVLKTGDLQPLEQPTSEAVEAPLVGTPVCINGLMLLEIKDTEKYCALAPNMMVTNNTFTLKGG\n",
            "A0A1B3Q5V8: FLTDQYGFDADGVLAAPIKEVLGDKGAGMSRTADGYELPSGIVKVAVKVVRKNLPVSKQSIFTVLGVTERVVDGFYYPYSTNSVVSYTKPRAGATVGNTVQSVMLSVYGTEAYNPVTPVVRLRCSSCDFYGWVPVKDLGCVTCSCAAVHQSCIDAESAGLIKQGAVMLVDRSPSMRVVPGNRYVAFGGAIWSPIGKVNGVQVWVPRAYSCVAGDHSGAVGSGDVTINKEIMSLIIDGVRIDDEVLEQPSCGVLIANLEDPSAAPRVHTVDSLRQLCVDNNDTKDEFHPGLSYHFYRACWYGVLTAKSFGAFKELLQSEEVRLSHFCANIRRCLDRALNWARTTGSLVLKALAENLLDSVKNTPFLVGDLVKPVLDWIVEKMVLARDSVVSCAEAVLSLFNMQFTFAKGKFTFLKEKLNKSCVALRELLTVIVNKFATTVKWAGCKIDGFYNGDYHFFSAKGVLTEVQVCAKTLGAMLPRQQRMEVEVLDGKYAPVAITVPELEELNGTLEEVFGFDDLTLVRGSLVALASKVFVRTDDGLLFRYVKSGGVFLKAFRLRGG\n",
            "LCS: TYDDGPIKLGKASTDGYELPIKAKKNPFVLTRVDGFYPSNSTKGTVGTLTEATCGPVKCCSVHSAESGLKLRGRAFGGSVGWVPRASAGHGVGSGDNEILIIVDLEIALAATSVTKGLYACGVTKGAKELLSEVRSFANRLAATGSLLALANLLSTFGVKPVLDWEKVLRDVSCAEVQTAKEKSVTVNKFACDGGAKLEVTGLRREEGPAPELEELTLEEVGDLLSVALVTGLLLKAFLGG\n",
            "LCS length: 241\n"
          ],
          "name": "stdout"
        }
      ]
    },
    {
      "cell_type": "code",
      "metadata": {
        "id": "HTQilU32BHGg",
        "colab_type": "code",
        "colab": {
          "base_uri": "https://localhost:8080/",
          "height": 106
        },
        "outputId": "b37288cf-7d95-43d2-d85c-1784d8e25e09"
      },
      "source": [
        "# LCS of nsp2 and Q9YMB7\n",
        "d, e = LCS(nsp2, Q9YMB7)\n",
        "new_hold = []\n",
        "m2 = len(nsp2)\n",
        "n2 = len(Q9YMB7)\n",
        "\n",
        "lcs2 = print_lcs(e, nsp2, m2, n2, new_hold)\n",
        "print(\"nsp2: \" + \"\".join(nsp2) +\"\\nQ9YMB7: \" +  \"\".join(Q9YMB7))\n",
        "print(\"LCS: \" + \"\".join(lcs2))\n",
        "print(\"LCS length: \" + str(len(lcs2)))"
      ],
      "execution_count": 10,
      "outputs": [
        {
          "output_type": "stream",
          "text": [
            "nsp2: AYTRYVDNNFCGPDGYPLECIKDLLARAGKASCTLSEQLDFIDTKRGVYCCREHEHEIAWYTERSEKSYELQTPFEIKLAKKFDTFNGECPNFVFPLNSIIKTIQPRVEKKKLDGFMGRIRSVYPVASPNECNQMCLSTLMKCDHCGETSWQTGDFVKATCEFCGTENLTKEGATTCGYLPQNAVVKIYCPACHNSEVGPEHSLAEYHNESGLKTILRKGGRTIAFGGCVFSYVGCHNKCAYWVPRASANIGCNHTGVVGEGSEGLNDNLLEILQKEKVNINIVGDFKLNEEIAIILASFSASTSAFVETVKGLDYKAFKQIVESCGNFKVTKGKAKKGAWNIGEQKSILSPLYAFASEAARVVRSIFSRTLETAQNSVRVLQKAAITILDGISQYSLRLIDAMMFTSDLATNNLVVMAYITGGVVQLTSQWLTNIFGTVYEKLKPVLDWLEEKFKEGVEFLRDGWEIVKFISTCACEIVGGQIVTCAKEIKESVQTFFKLVNKFLALCADSIIIGGAKLKALNLGETFVTHSKGLYRKCVKSREETGLLMPLKAPKEIIFLEGETLPTEVLTEEVVLKTGDLQPLEQPTSEAVEAPLVGTPVCINGLMLLEIKDTEKYCALAPNMMVTNNTFTLKGG\n",
            "Q9YMB7: YVDQYMCGADGKPVGDFKDYFGDEDIIEFEGEEYHCAWTTVRDEKPLNQQTLFTIQEIQYNLDIPHKLPNCATRHVAPPVKKNSKIVLYKKLYDIFGSPFMGNGDCLSKCFDTLHFIAATRCPCGSESSGVGDWTGFKTACCSGKVKGVTLGDIKPGDAVMSAGKVKFFANCVLQYAGDVEGVSIWKVIKTFTVDETVCTPGFEGELNDFIKPESKSLVACSVKRAFITGDIDDAVHDCIITGKLDLSTNLFGNVGLFKKTPWFQKCGALFVDAWKVVEELCGSLTLTYKQIYEVVASLCTSAFTIVNYTFVVPDNRVKDLVDKCVKVLVKAFDVFTQIITIAGIEAKCFVLGAKYLLFNNALVKLVSVKILGKQKLECAFLVGATVNVTPKRTETATISLNKVDDVVAPGEGYIVIVGDMAFYKSGEYYFMMSSPNFVLTNNVFK\n",
            "LCS: YVDCGDGPKDGEDFGEEHAWTREKLQTFEIKLATPVNSKIVKKLDGFMGNCLSKCDHCGESWTGFKACCGKGTGPAVVKACVLAESKIKTFVVCPGEGELNDIKEKVIGDIAIILSTFVGLKFKCGFVAKELSLTLTQVVASLTSATNYTVVNVKLVDKKVFDVFITAGIAKFVLGAKLLNLVKLVKGKKEFLGTPTETLKDVAPGVIGMKEYPNVTNNFK\n",
            "LCS length: 221\n"
          ],
          "name": "stdout"
        }
      ]
    }
  ]
}